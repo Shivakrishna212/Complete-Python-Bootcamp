{
 "cells": [
  {
   "cell_type": "markdown",
   "metadata": {},
   "source": [
    "#### Polymorphism\n",
    "Polymorphism is a core concept in Object-Oriented Programming (OOP) that allows objects of different classes to be treated as objects of a common superclass. It provides a way to perform a single action in different forms. Polymorphism is typically achieved through method overriding and interfaces"
   ]
  },
  {
   "cell_type": "markdown",
   "metadata": {},
   "source": [
    "###  Method Overriding\n",
    "Method overriding allows a child class to provide a specific implementation of a method that is already defined in its parent class."
   ]
  },
  {
   "cell_type": "code",
   "execution_count": 3,
   "metadata": {},
   "outputs": [
    {
     "name": "stdout",
     "output_type": "stream",
     "text": [
      "Woof!\n",
      "Meow!\n",
      "Woof!\n"
     ]
    }
   ],
   "source": [
    "## Base Class\n",
    "class Animal:\n",
    "    def speak(self):\n",
    "        return \"Sound of the animal\"\n",
    "    \n",
    "## Derived Class 1\n",
    "class Dog(Animal):\n",
    "    def speak(self):\n",
    "        return \"Woof!\"\n",
    "    \n",
    "## Derived class\n",
    "class Cat(Animal):\n",
    "    def speak(self):\n",
    "        return \"Meow!\"\n",
    "    \n",
    "## Function that demonstrates polymorphism\n",
    "def animal_speak(animal):\n",
    "    print(animal.speak())\n",
    "    \n",
    "dog=Dog()\n",
    "cat=Cat()\n",
    "print(dog.speak())\n",
    "print(cat.speak())\n",
    "animal_speak(dog)\n"
   ]
  },
  {
   "cell_type": "code",
   "execution_count": 5,
   "metadata": {},
   "outputs": [
    {
     "name": "stdout",
     "output_type": "stream",
     "text": [
      "the area is 20\n",
      "the area is 28.259999999999998\n"
     ]
    }
   ],
   "source": [
    "### Polymorphissm with Functions and MEthods\n",
    "## base class\n",
    "class Shape:\n",
    "    def area(self):\n",
    "        return \"The area of the figure\"\n",
    "    \n",
    "## Derived class 1\n",
    "class Rectangle(Shape):\n",
    "    def __init__(self,width,height):\n",
    "        self.width=width\n",
    "        self.height=height\n",
    "\n",
    "    def area(self):\n",
    "        return self.width * self.height\n",
    "    \n",
    "##DErived class 2\n",
    "\n",
    "class Circle(Shape):\n",
    "    def __init__(self,radius):\n",
    "        self.radius=radius\n",
    "\n",
    "    def area(self):\n",
    "        return 3.14*self.radius *self.radius\n",
    "    \n",
    "## Fucntion that demonstrates polymorphism\n",
    "\n",
    "def print_area(shape):\n",
    "    print(f\"the area is {shape.area()}\")\n",
    "\n",
    "\n",
    "rectangle=Rectangle(4,5)\n",
    "circle=Circle(3)\n",
    "\n",
    "print_area(rectangle)\n",
    "print_area(circle)\n",
    "\n",
    "\n",
    "\n"
   ]
  },
  {
   "cell_type": "markdown",
   "metadata": {},
   "source": [
    "#### Polymorphism with Abstract Base Classes\n",
    "Abstract Base Classes (ABCs) are used to define common methods for a group of related objects. They can enforce that derived classes implement particular methods, promoting consistency across different implementations."
   ]
  },
  {
   "cell_type": "code",
   "execution_count": 2,
   "metadata": {},
   "outputs": [
    {
     "name": "stdout",
     "output_type": "stream",
     "text": [
      "Car enginer started\n",
      "Motorcycle enginer started\n",
      "\n",
      "\n",
      "\n",
      "\n",
      "\n"
     ]
    },
    {
     "ename": "TypeError",
     "evalue": "Can't instantiate abstract class errorcreater without an implementation for abstract method 'start_engine'",
     "output_type": "error",
     "traceback": [
      "\u001b[1;31m---------------------------------------------------------------------------\u001b[0m",
      "\u001b[1;31mTypeError\u001b[0m                                 Traceback (most recent call last)",
      "Cell \u001b[1;32mIn[2], line 42\u001b[0m\n\u001b[0;32m     40\u001b[0m \u001b[38;5;28;01mclass\u001b[39;00m \u001b[38;5;21;01merrorcreater\u001b[39;00m(Vehicle):\n\u001b[0;32m     41\u001b[0m     \u001b[38;5;28;01mpass\u001b[39;00m\n\u001b[1;32m---> 42\u001b[0m TryingToCreateAnError \u001b[38;5;241m=\u001b[39m  \u001b[43merrorcreater\u001b[49m\u001b[43m(\u001b[49m\u001b[43m)\u001b[49m\n",
      "\u001b[1;31mTypeError\u001b[0m: Can't instantiate abstract class errorcreater without an implementation for abstract method 'start_engine'"
     ]
    }
   ],
   "source": [
    "from abc import ABC,abstractmethod\n",
    "\n",
    "## Define an abstract class\n",
    "class Vehicle(ABC):\n",
    "    @abstractmethod\n",
    "    def start_engine(self):\n",
    "        pass\n",
    "\n",
    "## Derived class 1\n",
    "class Car(Vehicle):\n",
    "    def start_engine(self):\n",
    "        return \"Car enginer started\"\n",
    "    \n",
    "## Derived class 2\n",
    "class Motorcycle(Vehicle):\n",
    "    def start_engine(self):\n",
    "        return \"Motorcycle enginer started\"\n",
    "\n",
    "\n",
    "    \n",
    "# Function that demonstrates polymorphism\n",
    "def start_vehicle(vehicle):\n",
    "    print(vehicle.start_engine())\n",
    "\n",
    "## create objects of cAr and Motorcycle\n",
    "\n",
    "car = Car()\n",
    "motorcycle = Motorcycle()\n",
    "\n",
    "\n",
    "\n",
    "start_vehicle(car)\n",
    "start_vehicle(motorcycle)\n",
    "\n",
    "\n",
    "for i in range(5): print()\n",
    "\n",
    "\n",
    "#this one creates an error becuase we didnt override the abstract class of v\n",
    "class errorcreater(Vehicle):\n",
    "    pass\n",
    "TryingToCreateAnError =  errorcreater()\n",
    "\n"
   ]
  },
  {
   "cell_type": "markdown",
   "metadata": {},
   "source": [
    "#### Conclusion\n",
    "Polymorphism is a powerful feature of OOP that allows for flexibility and integration in code design. It enables a single function to handle objects of different classes, each with its own implementation of a method. By understanding and applying polymorphism, you can create more extensible and maintainable object-oriented programs."
   ]
  },
  {
   "cell_type": "code",
   "execution_count": null,
   "metadata": {},
   "outputs": [],
   "source": []
  },
  {
   "cell_type": "markdown",
   "metadata": {},
   "source": [
    "## Method overloading \n",
    "\n",
    "\n",
    "we can do this by 3 methods\n"
   ]
  },
  {
   "cell_type": "markdown",
   "metadata": {},
   "source": [
    "#### Method 1  (Not The Most Efficient Method):\n",
    " We can use the arguments to make the same function work differently i.e. as per the arguments."
   ]
  },
  {
   "cell_type": "code",
   "execution_count": 2,
   "metadata": {},
   "outputs": [
    {
     "name": "stdout",
     "output_type": "stream",
     "text": [
      "11\n",
      "Hi Geeks\n"
     ]
    }
   ],
   "source": [
    "# Function to take multiple arguments\n",
    "def add(datatype, *args):\n",
    "\n",
    "    # if datatype is int\n",
    "    # initialize answer as 0\n",
    "    if datatype == 'int':\n",
    "        answer = 0\n",
    "\n",
    "    # if datatype is str\n",
    "    # initialize answer as ''\n",
    "    if datatype == 'str':\n",
    "        answer = ''\n",
    "\n",
    "    # Traverse through the arguments\n",
    "    for x in args:\n",
    "\n",
    "        # This will do addition if the\n",
    "        # arguments are int. Or concatenation\n",
    "        # if the arguments are str\n",
    "        answer = answer + x\n",
    "\n",
    "    print(answer)\n",
    "\n",
    "\n",
    "# Integer\n",
    "add('int', 5, 6)\n",
    "\n",
    "# String\n",
    "add('str', 'Hi ', 'Geeks')\n"
   ]
  },
  {
   "cell_type": "markdown",
   "metadata": {},
   "source": [
    "#### Method 2 (Not the efficient one):\n",
    "\n",
    "We can achieve method overloading in python by user defined function using “None” keyword as default parameter."
   ]
  },
  {
   "cell_type": "code",
   "execution_count": 4,
   "metadata": {},
   "outputs": [
    {
     "name": "stdout",
     "output_type": "stream",
     "text": [
      "5\n",
      "2\n"
     ]
    }
   ],
   "source": [
    "def add(a=None, b=None):\n",
    "    # Checks if both parameters are available\n",
    "    # if statement will be executed if only one parameter is available\n",
    "    if a != None and b == None:\n",
    "        print(a)\n",
    "    # else will be executed if both are available and returns addition of two\n",
    "    else:\n",
    "        print(a+b)\n",
    "\n",
    "\n",
    "# two arguments are passed, returns addition of two\n",
    "add(2, 3)\n",
    "# only one argument is passed, returns a\n",
    "add(2)\n"
   ]
  },
  {
   "cell_type": "markdown",
   "metadata": {},
   "source": [
    "#### Method 3 (Efficient One):\n",
    "\n",
    "## By Using Multiple Dispatch Decorator \n",
    "\n",
    "Multiple Dispatch Decorator Can be installed by: \n",
    "\n",
    "pip install multipledispatch"
   ]
  },
  {
   "cell_type": "code",
   "execution_count": 6,
   "metadata": {},
   "outputs": [
    {
     "name": "stdout",
     "output_type": "stream",
     "text": [
      "6\n",
      "12\n",
      "17.204\n"
     ]
    }
   ],
   "source": [
    "from multipledispatch import dispatch\n",
    "\n",
    "# passing one parameter\n",
    "\n",
    "\n",
    "@dispatch(int, int)\n",
    "def product(first, second):\n",
    "    result = first*second\n",
    "    print(result)\n",
    "\n",
    "# passing two parameters\n",
    "\n",
    "\n",
    "@dispatch(int, int, int)\n",
    "def product(first, second, third):\n",
    "    result = first * second * third\n",
    "    print(result)\n",
    "\n",
    "# you can also pass data type of any value as per requirement\n",
    "\n",
    "\n",
    "@dispatch(float, float, float)\n",
    "def product(first, second, third):\n",
    "    result = first * second * third\n",
    "    print(result)\n",
    "\n",
    "\n",
    "# calling product method with 2 arguments\n",
    "product(2, 3)  # this will give output of 6\n",
    "\n",
    "# calling product method with 3 arguments but all int\n",
    "product(2, 3, 2)  # this will give output of 12\n",
    "\n",
    "# calling product method with 3 arguments but all float\n",
    "product(2.2, 3.4, 2.3)  # this will give output of 17.985999999999997\n"
   ]
  },
  {
   "cell_type": "code",
   "execution_count": null,
   "metadata": {},
   "outputs": [],
   "source": []
  },
  {
   "cell_type": "code",
   "execution_count": null,
   "metadata": {},
   "outputs": [],
   "source": []
  },
  {
   "cell_type": "code",
   "execution_count": null,
   "metadata": {},
   "outputs": [],
   "source": []
  }
 ],
 "metadata": {
  "kernelspec": {
   "display_name": ".venv",
   "language": "python",
   "name": "python3"
  },
  "language_info": {
   "codemirror_mode": {
    "name": "ipython",
    "version": 3
   },
   "file_extension": ".py",
   "mimetype": "text/x-python",
   "name": "python",
   "nbconvert_exporter": "python",
   "pygments_lexer": "ipython3",
   "version": "3.12.7"
  }
 },
 "nbformat": 4,
 "nbformat_minor": 2
}
